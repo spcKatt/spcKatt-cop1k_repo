{
 "cells": [
  {
   "cell_type": "markdown",
   "metadata": {},
   "source": [
    "<img src=\"pyprog.png\">"
   ]
  },
  {
   "cell_type": "markdown",
   "metadata": {},
   "source": [
    "<img src=\"arrow.PNG\">"
   ]
  },
  {
   "cell_type": "markdown",
   "metadata": {},
   "source": [
    "## CHAPTER 2 SAMPLE PROGRAMS\n",
    "### Run each cell by clicking on the arrow.\n",
    "* Strive to see why it executes as it does **while reading the textbook**.\n",
    "* Then...**experiment!** Edit cells and run them again. It's a great way to learn Python."
   ]
  },
  {
   "cell_type": "code",
   "execution_count": null,
   "metadata": {},
   "outputs": [],
   "source": [
    "# output.py\n",
    "\n",
    "print('Kate Austen')\n",
    "print('123 Full Circle Drive')\n",
    "print('Asheville, NC 28899')"
   ]
  },
  {
   "cell_type": "code",
   "execution_count": null,
   "metadata": {},
   "outputs": [],
   "source": [
    "# double_quotes.py\n",
    "\n",
    "print(\"Kate Austen\")\n",
    "print(\"123 Dharma Lane\")\n",
    "print(\"Asheville, NC 28899\")"
   ]
  },
  {
   "cell_type": "code",
   "execution_count": null,
   "metadata": {},
   "outputs": [],
   "source": [
    "# apostrophe.py\n",
    "\n",
    "print(\"Don't fear!\")\n",
    "print(\"I'm here!\")"
   ]
  },
  {
   "cell_type": "code",
   "execution_count": null,
   "metadata": {},
   "outputs": [],
   "source": [
    "# display quote\n",
    "\n",
    "print('Your assignment is to read \"Hamlet\" by tomorrow.')"
   ]
  },
  {
   "cell_type": "code",
   "execution_count": null,
   "metadata": {},
   "outputs": [],
   "source": [
    "# comment1.py\n",
    "\n",
    "# This program displays a person's\n",
    "# name and address.\n",
    "print('Kate Austen')\n",
    "print('123 Full Circle Drive')\n",
    "print('Asheville, NC 28899')"
   ]
  },
  {
   "cell_type": "code",
   "execution_count": null,
   "metadata": {},
   "outputs": [],
   "source": [
    "# comment2.py\n",
    "\n",
    "print('Kate Austen')           # Name\n",
    "print('123 Full Circle Drive') # Street address\n",
    "print('Asheville, NC 28899')   # City, state, and ZIP"
   ]
  },
  {
   "cell_type": "code",
   "execution_count": null,
   "metadata": {},
   "outputs": [],
   "source": [
    "# variable_demo.py\n",
    "\n",
    "# This program demonstrates a variable.\n",
    "room = 503\n",
    "print('I am staying in room number')\n",
    "print(room)"
   ]
  },
  {
   "cell_type": "code",
   "execution_count": null,
   "metadata": {},
   "outputs": [],
   "source": [
    "# variable_demo2.py\n",
    "\n",
    "# Create two variables: top_speed and distance.\n",
    "top_speed = 160\n",
    "distance = 300\n",
    "\n",
    "# Display the values referenced by the variables.\n",
    "print('The top speed is')\n",
    "print(top_speed)\n",
    "print('The distance traveled is')\n",
    "print(distance)"
   ]
  },
  {
   "cell_type": "code",
   "execution_count": null,
   "metadata": {},
   "outputs": [],
   "source": [
    "# variable_demo3.py\n",
    "\n",
    "# This program demonstrates a variable.\n",
    "room = 503\n",
    "print('I am staying in room number', room)"
   ]
  },
  {
   "cell_type": "code",
   "execution_count": null,
   "metadata": {},
   "outputs": [],
   "source": [
    "# variable_demo4.py\n",
    "\n",
    "# This program demonstrates variable reassignment.\n",
    "# Assign a value to the dollars variable.\n",
    "dollars = 2.75\n",
    "print('I have', dollars, 'in my account.')\n",
    "\n",
    "# Reassign dollars so it references\n",
    "# a different value.\n",
    "dollars = 99.95\n",
    "print('But now I have', dollars, 'in my account!')"
   ]
  },
  {
   "cell_type": "code",
   "execution_count": null,
   "metadata": {},
   "outputs": [],
   "source": [
    "# string_variable.py\n",
    "\n",
    "# Create variables to reference two strings.\n",
    "first_name = 'Kathryn'\n",
    "last_name = 'Marino'\n",
    "\n",
    "# Display the values referenced by the variables.\n",
    "print(first_name, last_name)"
   ]
  },
  {
   "cell_type": "code",
   "execution_count": null,
   "metadata": {},
   "outputs": [],
   "source": [
    "# string_input.py\n",
    "\n",
    "# Get the user's first name.\n",
    "first_name = input('Enter your first name: ')\n",
    "\n",
    "# Get the user's last name.\n",
    "last_name = input('Enter your last name: ')\n",
    "\n",
    "# Print a greeting to the user.\n",
    "print('Hello', first_name, last_name)"
   ]
  },
  {
   "cell_type": "code",
   "execution_count": null,
   "metadata": {},
   "outputs": [],
   "source": [
    "# input.py\n",
    "\n",
    "# Get the user's name, age, and income.\n",
    "name = input('What is your name? ')\n",
    "age = int(input('What is your age? '))\n",
    "income = float(input('What is your income? '))\n",
    "\n",
    "# Display the data.\n",
    "print('Here is the data you entered:')\n",
    "print('Name:', name)\n",
    "print('Age:', age)\n",
    "print('Income:', income)"
   ]
  },
  {
   "cell_type": "code",
   "execution_count": null,
   "metadata": {},
   "outputs": [],
   "source": [
    "# simple_math.py\n",
    "\n",
    "# Assign a value to the salary variable.\n",
    "salary = 2500.0\n",
    "\n",
    "# Assign a value to the bonus variable.\n",
    "bonus = 1200.0\n",
    "\n",
    "# Calculate the total pay by adding salary\n",
    "# and bonus. Assign the result to pay.\n",
    "pay = salary + bonus\n",
    "\n",
    "# Display the pay.\n",
    "print('Your pay is', pay)"
   ]
  },
  {
   "cell_type": "code",
   "execution_count": null,
   "metadata": {},
   "outputs": [],
   "source": [
    "# sale_price.py\n",
    "\n",
    "# This program gets an item's original price and\n",
    "# calculates its sale price, with a 20% discount.\n",
    "\n",
    "# Get the item's original price.\n",
    "original_price = float(input(\"Enter the item's original price: \"))\n",
    "\n",
    "# Calculate the amount of the discount.\n",
    "discount = original_price * 0.2\n",
    "\n",
    "# Calculate the sale price.\n",
    "sale_price = original_price - discount\n",
    "\n",
    "# Display the sale price.\n",
    "print('The sale price is', sale_price)"
   ]
  },
  {
   "cell_type": "code",
   "execution_count": null,
   "metadata": {},
   "outputs": [],
   "source": [
    "# test_score_average.py\n",
    "\n",
    "# Get three test scores and assign them to the\n",
    "# test1, test2, and test3 variables.\n",
    "test1 = float(input('Enter the first test score: '))\n",
    "test2 = float(input('Enter the second test score: '))\n",
    "test3 = float(input('Enter the third test score: '))\n",
    "\n",
    "# Calculate the average of the three scores\n",
    "# and assign the result to the average variable.\n",
    "average = (test1 + test2 + test3) / 3.0\n",
    "\n",
    "# Display the average.\n",
    "print('The average score is', average)"
   ]
  },
  {
   "cell_type": "code",
   "execution_count": null,
   "metadata": {},
   "outputs": [],
   "source": [
    "# time_converter.py\n",
    "\n",
    "# Get a number of seconds from the user.\n",
    "total_seconds = float(input('Enter a number of seconds: '))\n",
    "\n",
    "# Get the number of hours.\n",
    "hours = total_seconds // 3600\n",
    "\n",
    "# Get the number of remaining minutes.\n",
    "minutes = (total_seconds // 60) % 60\n",
    "\n",
    "# Get the number of remaining seconds.\n",
    "seconds = total_seconds % 60\n",
    "\n",
    "# Display the results.\n",
    "print('Here is the time in hours, minutes, and seconds:')\n",
    "print('Hours:', hours)\n",
    "print('Minutes:', minutes)\n",
    "print('Seconds:', seconds)"
   ]
  },
  {
   "cell_type": "code",
   "execution_count": null,
   "metadata": {},
   "outputs": [],
   "source": [
    "# future_value.py\n",
    "\n",
    "# Get the desired future value.\n",
    "future_value = float(input('Enter the desired future value: '))\n",
    "\n",
    "# Get the annual interest rate.\n",
    "rate = float(input('Enter the annual interest rate: '))\n",
    "\n",
    "# Get the number of years that the money will appreciate.\n",
    "years = int(input('Enter the number of years the money will grow: '))\n",
    "\n",
    "# Calculate the amount needed to deposit.\n",
    "present_value = future_value / (1.0 + rate)**years\n",
    "\n",
    "# Display the amount needed to deposit.\n",
    "print('You will need to deposit this amount:', present_value)"
   ]
  },
  {
   "cell_type": "code",
   "execution_count": null,
   "metadata": {},
   "outputs": [],
   "source": [
    "# concatenation.py\n",
    "# This program demonstrates string concatenation\n",
    "first_name = input('Enter your first name: ')\n",
    "last_name = input('Enter your last name: ')\n",
    "\n",
    "# Combine the names with a space between them.\n",
    "full_name = first_name + ' ' + last_name\n",
    "\n",
    "# Display the user's full name.\n",
    "print('Your full name is ' + full_name)"
   ]
  },
  {
   "cell_type": "code",
   "execution_count": null,
   "metadata": {
    "tags": []
   },
   "outputs": [],
   "source": [
    "# f_string_no_formatting.py\n",
    "\n",
    "# This program demonstrates how a floating-point\n",
    "# number is displayed with no formatting.\n",
    "amount_due = 5000.0\n",
    "monthly_payment = amount_due / 12.0\n",
    "print(f'The monthly payment is {monthly_payment}')"
   ]
  },
  {
   "cell_type": "code",
   "execution_count": null,
   "metadata": {},
   "outputs": [],
   "source": [
    "# f_string_rounding.py\n",
    "# This program demonstrates how a floating-point\n",
    "# number can be rounded.\n",
    "amount_due = 5000.0\n",
    "monthly_payment = amount_due / 12.0\n",
    "print(f'The monthly payment is {monthly_payment:.2f}.')"
   ]
  },
  {
   "cell_type": "code",
   "execution_count": null,
   "metadata": {},
   "outputs": [],
   "source": [
    "# dollar_display.py\n",
    "# This program demonstrates how a floating-point\n",
    "# number can be displayed as currency.\n",
    "monthly_pay = 5000.0\n",
    "annual_pay = monthly_pay * 12\n",
    "print(f'Your annual pay is ${annual_pay:,.2f}')"
   ]
  },
  {
   "cell_type": "code",
   "execution_count": null,
   "metadata": {},
   "outputs": [],
   "source": [
    "# columns.py\n",
    "# This program displays the following numbers\n",
    "# in two columns.\n",
    "num1 = 127.899\n",
    "num2 = 3465.148\n",
    "num3 = 3.776\n",
    "num4 = 264.821\n",
    "num5 = 88.081\n",
    "num6 = 799.999\n",
    "\n",
    "# Each number is displayed in a field of 10 spaces\n",
    "# and rounded to 2 decimal places.\n",
    "print(f'{num1:10.2f}{num2:10.2f}')\n",
    "print(f'{num3:10.2f}{num4:10.2f}')\n",
    "print(f'{num5:10.2f}{num6:10.2f}')"
   ]
  },
  {
   "cell_type": "code",
   "execution_count": null,
   "metadata": {},
   "outputs": [],
   "source": [
    "# center_align.py\n",
    "# This program demonstrates how to center-align strings.\n",
    "name1 = 'Gordon'\n",
    "name2 = 'Smith'\n",
    "name3 = 'Washington'\n",
    "name4 = 'Alvarado'\n",
    "name5 = 'Livingston'\n",
    "name6 = 'Jones'\n",
    "\n",
    "# Display the names\n",
    "print(f'***{name1:^20}***')\n",
    "print(f'***{name2:^20}***')\n",
    "print(f'***{name3:^20}***')\n",
    "print(f'***{name4:^20}***')\n",
    "print(f'***{name5:^20}***')\n",
    "print(f'***{name6:^20}***')"
   ]
  },
  {
   "cell_type": "code",
   "execution_count": null,
   "metadata": {
    "tags": []
   },
   "outputs": [],
   "source": [
    "## TURTLE GRAPHICS\n",
    "* There are no Turtle assignments in this course but Turtle is fun.\n",
    "* It can improve your Python skills.\n",
    "* This program below runs **in a new window**. Try it!\n",
    "* You could also copy-paste it into IDLE."
   ]
  },
  {
   "cell_type": "markdown",
   "metadata": {},
   "source": [
    "## The program below crashes on this server.\n",
    "* Copy-paste it into an IDLE **script window** to run it."
   ]
  },
  {
   "cell_type": "code",
   "execution_count": 4,
   "metadata": {},
   "outputs": [],
   "source": [
    "# orion.py\n",
    "\n",
    "# This program draws the stars of the Orion constellation,\n",
    "# the names of the stars, and the constellation lines.\n",
    "import turtle\n",
    "\n",
    "# Set the window size.\n",
    "turtle.setup(500, 600)\n",
    "\n",
    "# Setup the turtle.\n",
    "turtle.penup()\n",
    "turtle.hideturtle()\n",
    "\n",
    "# Create named constants for the star coordinates.\n",
    "LEFT_SHOULDER_X = -70\n",
    "LEFT_SHOULDER_Y = 200\n",
    "\n",
    "RIGHT_SHOULDER_X = 80\n",
    "RIGHT_SHOULDER_Y = 180\n",
    "\n",
    "LEFT_BELTSTAR_X = -40\n",
    "LEFT_BELTSTAR_Y = -20\n",
    "\n",
    "MIDDLE_BELTSTAR_X = 0\n",
    "MIDDLE_BELTSTAR_Y = 0\n",
    "\n",
    "RIGHT_BELTSTAR_X = 40\n",
    "RIGHT_BELTSTAR_Y = 20\n",
    "\n",
    "LEFT_KNEE_X = -90\n",
    "LEFT_KNEE_Y = -180\n",
    "\n",
    "RIGHT_KNEE_X = 120\n",
    "RIGHT_KNEE_Y = -140\n",
    "\n",
    "# Draw the stars.\n",
    "turtle.goto(LEFT_SHOULDER_X, LEFT_SHOULDER_Y)     # Left shoulder\n",
    "turtle.dot()\n",
    "turtle.goto(RIGHT_SHOULDER_X, RIGHT_SHOULDER_Y)   # Right shoulder\n",
    "turtle.dot()\n",
    "turtle.goto(LEFT_BELTSTAR_X, LEFT_BELTSTAR_Y)     # Left belt star\n",
    "turtle.dot()\n",
    "turtle.goto(MIDDLE_BELTSTAR_X, MIDDLE_BELTSTAR_Y) # Middle belt star\n",
    "turtle.dot()\n",
    "turtle.goto(RIGHT_BELTSTAR_X, RIGHT_BELTSTAR_Y)   # Right belt star\n",
    "turtle.dot()\n",
    "turtle.goto(LEFT_KNEE_X, LEFT_KNEE_Y)             # Left knee\n",
    "turtle.dot()\n",
    "turtle.goto(RIGHT_KNEE_X, RIGHT_KNEE_Y)           # Right knee\n",
    "turtle.dot()\n",
    "\n",
    "# Display the star names\n",
    "turtle.goto(LEFT_SHOULDER_X, LEFT_SHOULDER_Y)     # Left shoulder\n",
    "turtle.write('Betegeuse')\n",
    "turtle.goto(RIGHT_SHOULDER_X, RIGHT_SHOULDER_Y)   # Right shoulder\n",
    "turtle.write('Meissa')\n",
    "turtle.goto(LEFT_BELTSTAR_X, LEFT_BELTSTAR_Y)     # Left belt star\n",
    "turtle.write('Alnitak')\n",
    "turtle.goto(MIDDLE_BELTSTAR_X, MIDDLE_BELTSTAR_Y) # Middle belt star\n",
    "turtle.write('Alnilam')\n",
    "turtle.goto(RIGHT_BELTSTAR_X, RIGHT_BELTSTAR_Y)   # Right belt star\n",
    "turtle.write('Mintaka')\n",
    "turtle.goto(LEFT_KNEE_X, LEFT_KNEE_Y)             # Left knee\n",
    "turtle.write('Saiph')\n",
    "turtle.goto(RIGHT_KNEE_X, RIGHT_KNEE_Y)           # Right knee\n",
    "turtle.write('Rigel')\n",
    "\n",
    "# Draw a line from the left shoulder to left belt star\n",
    "turtle.goto(LEFT_SHOULDER_X, LEFT_SHOULDER_Y)\n",
    "turtle.pendown()\n",
    "turtle.goto(LEFT_BELTSTAR_X, LEFT_BELTSTAR_Y)\n",
    "turtle.penup()\n",
    "\n",
    "# Draw a line from the right shoulder to right belt star\n",
    "turtle.goto(RIGHT_SHOULDER_X, RIGHT_SHOULDER_Y)\n",
    "turtle.pendown()\n",
    "turtle.goto(RIGHT_BELTSTAR_X, RIGHT_BELTSTAR_Y)\n",
    "turtle.penup()\n",
    "\n",
    "# Draw a line from the left belt star to middle belt star\n",
    "turtle.goto(LEFT_BELTSTAR_X, LEFT_BELTSTAR_Y)\n",
    "turtle.pendown()\n",
    "turtle.goto(MIDDLE_BELTSTAR_X, MIDDLE_BELTSTAR_Y)\n",
    "turtle.penup()\n",
    "\n",
    "# Draw a line from the middle belt star to right belt star\n",
    "turtle.goto(MIDDLE_BELTSTAR_X, MIDDLE_BELTSTAR_Y)\n",
    "turtle.pendown()\n",
    "turtle.goto(RIGHT_BELTSTAR_X, RIGHT_BELTSTAR_Y)\n",
    "turtle.penup()\n",
    "\n",
    "# Draw a line from the left belt star to left knee\n",
    "turtle.goto(LEFT_BELTSTAR_X, LEFT_BELTSTAR_Y)\n",
    "turtle.pendown()\n",
    "turtle.goto(LEFT_KNEE_X, LEFT_KNEE_Y)\n",
    "turtle.penup()\n",
    "\n",
    "# Draw a line from the right belt star to right knee\n",
    "turtle.goto(RIGHT_BELTSTAR_X, RIGHT_BELTSTAR_Y)\n",
    "turtle.pendown()\n",
    "turtle.goto(RIGHT_KNEE_X, RIGHT_KNEE_Y)\n",
    "\n",
    "# Keep the window open. (Not necessary with IDLE.)\n",
    "turtle.done()\n"
   ]
  }
 ],
 "metadata": {
  "kernelspec": {
   "display_name": "Python 3 (ipykernel)",
   "language": "python",
   "name": "python3"
  },
  "language_info": {
   "codemirror_mode": {
    "name": "ipython",
    "version": 3
   },
   "file_extension": ".py",
   "mimetype": "text/x-python",
   "name": "python",
   "nbconvert_exporter": "python",
   "pygments_lexer": "ipython3",
   "version": "3.8.11"
  }
 },
 "nbformat": 4,
 "nbformat_minor": 4
}
