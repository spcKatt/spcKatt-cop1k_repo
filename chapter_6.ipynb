{
 "cells": [
  {
   "cell_type": "markdown",
   "id": "87b86a72-ed56-4416-a57b-5df588d2e093",
   "metadata": {
    "tags": []
   },
   "source": [
    "<img src=\"pyprog.png\">"
   ]
  },
  {
   "cell_type": "markdown",
   "id": "138df973-39d0-4702-bbef-a646ade281c7",
   "metadata": {},
   "source": [
    "# CHAPTER 6 PROGRAMS WILL NOT RUN ON THIS SERVER.\n",
    "* The Chapter 6 programs are available for download in mycourses."
   ]
  }
 ],
 "metadata": {
  "kernelspec": {
   "display_name": "Python 3 (ipykernel)",
   "language": "python",
   "name": "python3"
  },
  "language_info": {
   "codemirror_mode": {
    "name": "ipython",
    "version": 3
   },
   "file_extension": ".py",
   "mimetype": "text/x-python",
   "name": "python",
   "nbconvert_exporter": "python",
   "pygments_lexer": "ipython3",
   "version": "3.8.11"
  }
 },
 "nbformat": 4,
 "nbformat_minor": 5
}
