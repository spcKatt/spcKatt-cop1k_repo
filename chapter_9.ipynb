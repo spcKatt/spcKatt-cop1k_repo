{
 "cells": [
  {
   "cell_type": "markdown",
   "id": "4fc009f9-584c-41bc-bfe7-fcbfd3b32c95",
   "metadata": {},
   "source": [
    "<img src='pyprog.png'>"
   ]
  },
  {
   "cell_type": "markdown",
   "id": "cb19b3bc-f1ba-4c83-b57f-89ad9166fc66",
   "metadata": {
    "tags": []
   },
   "source": [
    "## CHAPTER 9 SAMPLE PROGRAMS\n",
    "* Each cell has a Chapter 9 sample program or code snippet.\n",
    "* Run each cell **as you read the textbook**.\n",
    "* **Experiment!** Edit cells and run them or insert new cells and run them."
   ]
  },
  {
   "cell_type": "markdown",
   "id": "a24e58bf-9d1a-4d8a-a084-e2b95c9b8e30",
   "metadata": {
    "tags": []
   },
   "source": [
    "## Dictionaries\n",
    "* A dictionary consists of **key:value pairs** separated by commas inside **curly braces**.\n",
    "* A value is retrieved by its **key** inside **square brackets**, or with the **get() method**."
   ]
  },
  {
   "cell_type": "markdown",
   "id": "9a092756-6743-407e-b64a-818b92519a33",
   "metadata": {},
   "source": [
    "### A phonebook dictionary with names as keys and numbers as values."
   ]
  },
  {
   "cell_type": "code",
   "execution_count": null,
   "id": "56b186e7-dc25-4a02-b6eb-4b4e0108514a",
   "metadata": {},
   "outputs": [],
   "source": [
    "# Create the phonebook dictionary\n",
    "phonebook = {'Chris':'555-1111','Katie':'555-2222'} # only two elements\n",
    "# Retrieve a contact's number\n",
    "number = phonebook['Katie']  # or phonebook.get('Katie')\n",
    "print(f'Her number is {number}.')"
   ]
  },
  {
   "cell_type": "code",
   "execution_count": null,
   "id": "736b6491-6d29-4feb-87de-91da5c7ac377",
   "metadata": {},
   "outputs": [],
   "source": [
    "# The in operator returns True if a specified key exists.\n",
    "contact = input('Who do you want to call? ')\n",
    "if contact in phonebook:\n",
    "    number = phonebook[contact]  \n",
    "    print(f'Call {contact} at {number}')\n",
    "else:\n",
    "    print(f'{contact} is not in the phonebook')"
   ]
  },
  {
   "cell_type": "code",
   "execution_count": null,
   "id": "46ff7a5a-0296-4ad5-bfb2-8eead09bf76d",
   "metadata": {},
   "outputs": [],
   "source": [
    "# Add elements to the dictionary\n",
    "phonebook['Joanne'] = '555-3333'\n",
    "phonebook['Miguel'] = '555-4444'\n",
    "# Report the number of contacts in the phonebook\n",
    "print(f'The phonebook now contains {len(phonebook)} contacts.')\n",
    "# Remove an element from the dictionary\n",
    "del phonebook['Chris']\n",
    "print(f'The phonebook now contains {len(phonebook)} contacts.')"
   ]
  },
  {
   "cell_type": "code",
   "execution_count": null,
   "id": "4445fbc4-c501-442f-829b-a3b564a3bc84",
   "metadata": {},
   "outputs": [],
   "source": [
    "# Dumping a dictionary to output, not the best way\n",
    "print(phonebook)"
   ]
  },
  {
   "cell_type": "code",
   "execution_count": null,
   "id": "3569a380-33ae-432d-8866-e262646843ad",
   "metadata": {},
   "outputs": [],
   "source": [
    "# Iterate over a dictionary with a for loop, better output\n",
    "for k in phonebook:\n",
    "    print(f'{k} {phonebook[k]}')"
   ]
  },
  {
   "cell_type": "code",
   "execution_count": null,
   "id": "49759eb3-5759-49db-9c46-6f571abc5d88",
   "metadata": {},
   "outputs": [],
   "source": [
    "# A dictionary of friends and their ages\n",
    "# with names as keys and ages as values.\n",
    "pals = {'Danny':22,\n",
    "        'Fanny':20,\n",
    "        'Randy':21,\n",
    "        'Mandy':19,\n",
    "        'Sandy':20\n",
    "       }"
   ]
  },
  {
   "cell_type": "markdown",
   "id": "a85e8b36-e4fb-4b8e-af9c-ad5f9c352080",
   "metadata": {
    "tags": []
   },
   "source": [
    "### Dictionary Methods - Page 475-480"
   ]
  },
  {
   "cell_type": "code",
   "execution_count": null,
   "id": "4cd0ed0b-0c0b-4ca2-9b8f-363e0da599cb",
   "metadata": {
    "tags": []
   },
   "outputs": [],
   "source": [
    "# Iterate over a dictionary with the items() method\n",
    "for k,v in pals.items():\n",
    "    print(f'{k} is {v}')"
   ]
  },
  {
   "cell_type": "code",
   "execution_count": null,
   "id": "23accb17-b340-4b64-846d-1e26919e08ad",
   "metadata": {},
   "outputs": [],
   "source": [
    "# Display just the keys with the keys() method\n",
    "print(pals.keys())\n",
    "# Display just the values with the values() method\n",
    "print(pals.values())"
   ]
  },
  {
   "cell_type": "code",
   "execution_count": null,
   "id": "2c7ff3a1-dc1d-45a1-9fb4-1f86fa91b3e5",
   "metadata": {},
   "outputs": [],
   "source": [
    "# The items() method, another way to iterate over a dictionary\n",
    "for k,v in pals.items():\n",
    "    print(f'{k} is {v} years old.')"
   ]
  },
  {
   "cell_type": "markdown",
   "id": "c09ac745-44d4-4f26-9f04-7ca48835bd20",
   "metadata": {},
   "source": [
    "### The values in a dictionary could be lists. "
   ]
  },
  {
   "cell_type": "code",
   "execution_count": null,
   "id": "c0731ee0-2e23-4a99-a772-e04558231b03",
   "metadata": {},
   "outputs": [],
   "source": [
    "# A dictionary that records salesperson activity\n",
    "# Salespersons as keys and lists of units sold as values\n",
    "sales_data = {'Benny':[2, 5, 3],\n",
    "              'Jenny':[3, 1, 2, 2],\n",
    "              'Kenny':[1,3],\n",
    "              'Penny':[2, 1, 2]\n",
    "             }"
   ]
  },
  {
   "cell_type": "code",
   "execution_count": null,
   "id": "379767f3-f995-4f9a-bf20-cd4ffe8f2d9c",
   "metadata": {},
   "outputs": [],
   "source": [
    "# Loop through salespersons and sales for each\n",
    "# using nested loops, and accumulate sales for each\n",
    "for k in sales_data:\n",
    "    print(f'{k}', end = ' ')\n",
    "    tot_sales = 0            # accumulator\n",
    "    for s in sales_data[k]:\n",
    "        print(f'{s}', end = ' ')\n",
    "        tot_sales += s       # accumulation\n",
    "    print(f'\\tTotal sales for {k}: {tot_sales}')"
   ]
  },
  {
   "cell_type": "code",
   "execution_count": null,
   "id": "c7c0a2f2-cb12-438e-85bd-75a5c87fbe6a",
   "metadata": {},
   "outputs": [],
   "source": [
    "# card_dealer.py\n",
    "# This program uses a dictionary as a deck of cards.\n",
    "import random\n",
    "\n",
    "def main():\n",
    "    # Create a deck of cards.\n",
    "    deck = create_deck()\n",
    "\n",
    "    # Get the number of cards to deal.\n",
    "    num_cards = int(input('How many cards should I deal? '))\n",
    "\n",
    "    # Deal the cards.\n",
    "    deal_cards(deck, num_cards)\n",
    "\n",
    "# The create_deck function returns a dictionary\n",
    "# representing a deck of cards.\n",
    "\n",
    "def create_deck():\n",
    "    # Create a dictionary with each card and its value\n",
    "    # stored as key-value pairs.\n",
    "    deck = {'Ace of Spades':1, '2 of Spades':2, '3 of Spades':3,\n",
    "            '4 of Spades':4, '5 of Spades':5, '6 of Spades':6,\n",
    "            '7 of Spades':7, '8 of Spades':8, '9 of Spades':9,\n",
    "            '10 of Spades':10, 'Jack of Spades':10,\n",
    "            'Queen of Spades':10, 'King of Spades': 10,\n",
    "            \n",
    "            'Ace of Hearts':1, '2 of Hearts':2, '3 of Hearts':3,\n",
    "            '4 of Hearts':4, '5 of Hearts':5, '6 of Hearts':6,\n",
    "            '7 of Hearts':7, '8 of Hearts':8, '9 of Hearts':9,\n",
    "            '10 of Hearts':10, 'Jack of Hearts':10,\n",
    "            'Queen of Hearts':10, 'King of Hearts': 10,\n",
    "            \n",
    "            'Ace of Clubs':1, '2 of Clubs':2, '3 of Clubs':3,\n",
    "            '4 of Clubs':4, '5 of Clubs':5, '6 of Clubs':6,\n",
    "            '7 of Clubs':7, '8 of Clubs':8, '9 of Clubs':9,\n",
    "            '10 of Clubs':10, 'Jack of Clubs':10,\n",
    "            'Queen of Clubs':10, 'King of Clubs': 10,\n",
    "            \n",
    "            'Ace of Diamonds':1, '2 of Diamonds':2, '3 of Diamonds':3,\n",
    "            '4 of Diamonds':4, '5 of Diamonds':5, '6 of Diamonds':6,\n",
    "            '7 of Diamonds':7, '8 of Diamonds':8, '9 of Diamonds':9,\n",
    "            '10 of Diamonds':10, 'Jack of Diamonds':10,\n",
    "            'Queen of Diamonds':10, 'King of Diamonds': 10}\n",
    "\n",
    "    # Return the deck.\n",
    "    return deck\n",
    "\n",
    "# The deal_cards function deals a specified number of cards\n",
    "# from the deck.\n",
    "\n",
    "def deal_cards(deck, number):\n",
    "    # Initialize an accumulator for the hand value.\n",
    "    hand_value = 0\n",
    "\n",
    "    # Make sure the number of cards to deal is not\n",
    "    # greater than the number of cards in the deck.\n",
    "    if number > len(deck):\n",
    "        number = len(deck)\n",
    "\n",
    "    # Deal the cards and accumulate their values.\n",
    "    for count in range(number):\n",
    "        card = random.choice(list(deck))\n",
    "        print(card)\n",
    "        hand_value += deck[card]\n",
    "\n",
    "    # Display the value of the hand.\n",
    "    print(f'Value of this hand: {hand_value}')\n",
    "\n",
    "# Call the main function.\n",
    "if __name__ == '__main__':\n",
    "    main()"
   ]
  },
  {
   "cell_type": "code",
   "execution_count": null,
   "id": "97cd660e-8a4e-4012-bacf-edc7d49b8bd4",
   "metadata": {},
   "outputs": [],
   "source": [
    "# birthdays.py\n",
    "# This program uses a dictionary to keep friends'\n",
    "# names and birthdays.\n",
    "\n",
    "# Global constants for menu choices\n",
    "LOOK_UP = 1\n",
    "ADD = 2\n",
    "CHANGE = 3\n",
    "DELETE = 4\n",
    "QUIT = 5\n",
    "\n",
    "# main function\n",
    "def main():\n",
    "    # Create an empty dictionary.\n",
    "    birthdays = {}\n",
    "\n",
    "    # Initialize a variable for the user's choice.\n",
    "    choice = 0\n",
    "\n",
    "    while choice != QUIT:\n",
    "        # Get the user's menu choice.\n",
    "        choice = get_menu_choice()\n",
    "\n",
    "        # Process the choice.\n",
    "        if choice == LOOK_UP:\n",
    "            look_up(birthdays)\n",
    "        elif choice == ADD:\n",
    "            add(birthdays)\n",
    "        elif choice == CHANGE:\n",
    "            change(birthdays)\n",
    "        elif choice == DELETE:\n",
    "            delete(birthdays)\n",
    "\n",
    "# The get_menu_choice function displays the menu\n",
    "# and gets a validated choice from the user.\n",
    "def get_menu_choice():\n",
    "    print()\n",
    "    print('Friends and Their Birthdays')\n",
    "    print('---------------------------')\n",
    "    print('1. Look up a birthday')\n",
    "    print('2. Add a new birthday')\n",
    "    print('3. Change a birthday')\n",
    "    print('4. Delete a birthday')\n",
    "    print('5. Quit the program')\n",
    "    print()\n",
    "\n",
    "    # Get the user's choice.\n",
    "    choice = int(input('Enter your choice: '))\n",
    "\n",
    "    # Validate the choice.\n",
    "    while choice < LOOK_UP or choice > QUIT:\n",
    "        choice = int(input('Enter a valid choice: '))\n",
    "\n",
    "    # return the user's choice.\n",
    "    return choice\n",
    "\n",
    "# The look_up function looks up a name in the\n",
    "# birthdays dictionary.\n",
    "def look_up(birthdays):\n",
    "    # Get a name to look up.\n",
    "    name = input('Enter a name: ')\n",
    "\n",
    "    # Look it up in the dictionary.\n",
    "    print(birthdays.get(name, 'Not found.'))\n",
    "\n",
    "# The add function adds a new entry into the\n",
    "# birthdays dictionary.\n",
    "def add(birthdays):\n",
    "    # Get a name and birthday.\n",
    "    name = input('Enter a name: ')\n",
    "    bday = input('Enter a birthday: ')\n",
    "\n",
    "    # If the name does not exist, add it.\n",
    "    if name not in birthdays:\n",
    "        birthdays[name] = bday\n",
    "    else:\n",
    "        print('That entry already exists.')\n",
    "\n",
    "# The change function changes an existing\n",
    "# entry in the birthdays dictionary.\n",
    "def change(birthdays):\n",
    "    # Get a name to look up.\n",
    "    name = input('Enter a name: ')\n",
    "\n",
    "    if name in birthdays:\n",
    "        # Get a new birthday.\n",
    "        bday = input('Enter the new birthday: ')\n",
    "\n",
    "        # Update the entry.\n",
    "        birthdays[name] = bday\n",
    "    else:\n",
    "        print('That name is not found.')\n",
    "\n",
    "# The delete function deletes an entry from the\n",
    "# birthdays dictionary.\n",
    "def delete(birthdays):\n",
    "    # Get a name to look up.\n",
    "    name = input('Enter a name: ')\n",
    "\n",
    "    # If the name is found, delete the entry.\n",
    "    if name in birthdays:\n",
    "        del birthdays[name]\n",
    "    else:\n",
    "        print('That name is not found.')\n",
    "\n",
    "# Call the main function.\n",
    "if __name__ == '__main__':\n",
    "    main()"
   ]
  },
  {
   "cell_type": "markdown",
   "id": "1fc84753-c219-429e-addd-cefb464528ad",
   "metadata": {},
   "source": [
    "### Dictionary Comprehensions - Page 490-493\n",
    "* You can create a dictionary with **code inside curly braces**."
   ]
  },
  {
   "cell_type": "markdown",
   "id": "d8a7d95d-0178-48f3-97a0-b2dbb6fedf48",
   "metadata": {},
   "source": [
    "### Dictionary comprehension snippets"
   ]
  },
  {
   "cell_type": "code",
   "execution_count": 1,
   "id": "eed40657-72de-454b-967f-bba07089a6ab",
   "metadata": {},
   "outputs": [
    {
     "name": "stdout",
     "output_type": "stream",
     "text": [
      "1 squared is 1\n",
      "2 squared is 4\n",
      "3 squared is 9\n",
      "4 squared is 16\n"
     ]
    }
   ],
   "source": [
    "numbers = [1, 2, 3, 4]\n",
    "squares = {item:item**2 for item in numbers}\n",
    "for k in squares:\n",
    "    print(f'{k} squared is {squares[k]}')"
   ]
  },
  {
   "cell_type": "code",
   "execution_count": 2,
   "id": "dda172fa-28f4-49ab-8cd0-826813823c1c",
   "metadata": {},
   "outputs": [
    {
     "name": "stdout",
     "output_type": "stream",
     "text": [
      "Population of New York is 8398748\n",
      "Population of Los Angeles is 3990456\n",
      "Population of Chicago is 2705994\n",
      "Population of Houston is 2325502\n"
     ]
    }
   ],
   "source": [
    "populations = {'New York':8398748,\n",
    "               'Los Angeles':3990456,\n",
    "               'Chicago':2705994,\n",
    "               'Houston':2325502,\n",
    "               'Phoenix':1660272,\n",
    "               'Philadelphia':1584138\n",
    "              }\n",
    "largest = {k:v for k,v in populations.items() if v > 2000000}\n",
    "for k,v in largest.items():\n",
    "    print(f'Population of {k} is {v}')"
   ]
  },
  {
   "cell_type": "markdown",
   "id": "91e5c758-b6e9-4481-8361-eec35cc0f44e",
   "metadata": {},
   "source": [
    "## Now try some end-of-chapter exercises."
   ]
  },
  {
   "cell_type": "code",
   "execution_count": null,
   "id": "599670e4-1539-45ae-bab2-3709b031b928",
   "metadata": {},
   "outputs": [],
   "source": []
  }
 ],
 "metadata": {
  "kernelspec": {
   "display_name": "Python 3 (ipykernel)",
   "language": "python",
   "name": "python3"
  },
  "language_info": {
   "codemirror_mode": {
    "name": "ipython",
    "version": 3
   },
   "file_extension": ".py",
   "mimetype": "text/x-python",
   "name": "python",
   "nbconvert_exporter": "python",
   "pygments_lexer": "ipython3",
   "version": "3.8.11"
  }
 },
 "nbformat": 4,
 "nbformat_minor": 5
}
